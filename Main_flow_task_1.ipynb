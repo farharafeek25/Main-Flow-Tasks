{
  "nbformat": 4,
  "nbformat_minor": 0,
  "metadata": {
    "colab": {
      "provenance": []
    },
    "kernelspec": {
      "name": "python3",
      "display_name": "Python 3"
    },
    "language_info": {
      "name": "python"
    }
  },
  "cells": [
    {
      "cell_type": "markdown",
      "source": [
        "1) Write a python programm to create a list:\n",
        "\n"
      ],
      "metadata": {
        "id": "_1Tz6uHBOmjU"
      }
    },
    {
      "cell_type": "code",
      "execution_count": 4,
      "metadata": {
        "colab": {
          "base_uri": "https://localhost:8080/"
        },
        "id": "DqvwyVVlOh4N",
        "outputId": "3f03a866-ead5-457a-865e-d925326f8ffa"
      },
      "outputs": [
        {
          "output_type": "stream",
          "name": "stdout",
          "text": [
            "[1, 2, 3, 4, 5]\n"
          ]
        }
      ],
      "source": [
        "my_list=[1,2,3,4,5]\n",
        "print(my_list)"
      ]
    },
    {
      "cell_type": "code",
      "source": [
        "# Adding an element to the list\n",
        "my_list.append(6)\n",
        "print(\"list after adding an element:\",my_list)"
      ],
      "metadata": {
        "colab": {
          "base_uri": "https://localhost:8080/"
        },
        "id": "bwPV81D5PWr8",
        "outputId": "ab3c2f48-83cf-46b3-ccab-d83c920944bd"
      },
      "execution_count": 5,
      "outputs": [
        {
          "output_type": "stream",
          "name": "stdout",
          "text": [
            "list after adding an element: [1, 2, 3, 4, 5, 6]\n"
          ]
        }
      ]
    },
    {
      "cell_type": "code",
      "source": [
        "# Removing an element from the list\n",
        "my_list.remove(3)\n",
        "print(\"list after removing an element:\", my_list)\n",
        "\n",
        "# Removing the last element from the list\n",
        "my_list.pop()\n",
        "print(\"list after removing the last element:\", my_list)"
      ],
      "metadata": {
        "colab": {
          "base_uri": "https://localhost:8080/"
        },
        "id": "_yFLgECqPW_M",
        "outputId": "43bb20a9-1536-4b3d-d687-2e920e9ae289"
      },
      "execution_count": 6,
      "outputs": [
        {
          "output_type": "stream",
          "name": "stdout",
          "text": [
            "list after removing an element: [1, 2, 4, 5, 6]\n",
            "list after removing the last element: [1, 2, 4, 5]\n"
          ]
        }
      ]
    },
    {
      "cell_type": "code",
      "source": [
        "# Modifying an element in the list\n",
        "my_list[2]=10\n",
        "print(\"list after modifying an element:\", my_list)"
      ],
      "metadata": {
        "colab": {
          "base_uri": "https://localhost:8080/"
        },
        "id": "eND3kFWYPXG9",
        "outputId": "59f6347d-c26d-45e3-a8c4-d901426b0926"
      },
      "execution_count": 7,
      "outputs": [
        {
          "output_type": "stream",
          "name": "stdout",
          "text": [
            "list after modifying an element: [1, 2, 10, 5]\n"
          ]
        }
      ]
    },
    {
      "cell_type": "markdown",
      "source": [
        "Write a python program to create a dictionary:"
      ],
      "metadata": {
        "id": "FRTxI7cXRPm2"
      }
    },
    {
      "cell_type": "code",
      "source": [
        "#creating a dictionary\n",
        "my_dict={\"name\":\"John\",\"age\":27,\"city\":\"New York\"}\n",
        "print(my_dict)"
      ],
      "metadata": {
        "colab": {
          "base_uri": "https://localhost:8080/"
        },
        "id": "UYyygkVlPXPv",
        "outputId": "d6800f08-bf46-4399-852c-ef7f9e4f15f3"
      },
      "execution_count": 8,
      "outputs": [
        {
          "output_type": "stream",
          "name": "stdout",
          "text": [
            "{'name': 'John', 'age': 27, 'city': 'New York'}\n"
          ]
        }
      ]
    },
    {
      "cell_type": "code",
      "source": [
        "#Adding a key-value pair\n",
        "my_dict[\"country\"]=\"USA\"\n",
        "print(\"dictionary after adding a key-value pair:\", my_dict)"
      ],
      "metadata": {
        "colab": {
          "base_uri": "https://localhost:8080/"
        },
        "id": "GqwZKIwDRoRs",
        "outputId": "713ba504-5318-48a4-f7cc-cc53c0eda715"
      },
      "execution_count": 9,
      "outputs": [
        {
          "output_type": "stream",
          "name": "stdout",
          "text": [
            "dictionary after adding a key-value pair: {'name': 'John', 'age': 27, 'city': 'New York', 'country': 'USA'}\n"
          ]
        }
      ]
    },
    {
      "cell_type": "code",
      "source": [
        "# Removing a key-value pair\n",
        "del my_dict[\"age\"]\n",
        "print(\"dictionary after removing a key-value pair:\", my_dict)"
      ],
      "metadata": {
        "colab": {
          "base_uri": "https://localhost:8080/"
        },
        "id": "fHijEzznRoYU",
        "outputId": "28f86c5a-feb4-495b-c6c2-089d25b0a659"
      },
      "execution_count": 10,
      "outputs": [
        {
          "output_type": "stream",
          "name": "stdout",
          "text": [
            "dictionary after removing a key-value pair: {'name': 'John', 'city': 'New York', 'country': 'USA'}\n"
          ]
        }
      ]
    },
    {
      "cell_type": "code",
      "source": [
        "# Modifying a key-value pair\n",
        "my_dict[\"name\"]=\"Jane\"\n",
        "print(\"dictionary after modifying a key-value pair:\", my_dict)"
      ],
      "metadata": {
        "colab": {
          "base_uri": "https://localhost:8080/"
        },
        "id": "D4j-G9nHRoaw",
        "outputId": "7f7ec4b2-4077-4793-bc41-37ea65a3cff9"
      },
      "execution_count": 11,
      "outputs": [
        {
          "output_type": "stream",
          "name": "stdout",
          "text": [
            "dictionary after modifying a key-value pair: {'name': 'Jane', 'city': 'New York', 'country': 'USA'}\n"
          ]
        }
      ]
    },
    {
      "cell_type": "markdown",
      "source": [
        "Write a python program to create a set:"
      ],
      "metadata": {
        "id": "W8yawdK7Sld6"
      }
    },
    {
      "cell_type": "code",
      "source": [
        "# creating a set\n",
        "my_set={1,2,3,4,5}\n",
        "print(my_set)"
      ],
      "metadata": {
        "colab": {
          "base_uri": "https://localhost:8080/"
        },
        "id": "NaCm0Jn7RodC",
        "outputId": "60507a5f-c270-4c94-feec-23fc4019db1f"
      },
      "execution_count": 12,
      "outputs": [
        {
          "output_type": "stream",
          "name": "stdout",
          "text": [
            "{1, 2, 3, 4, 5}\n"
          ]
        }
      ]
    },
    {
      "cell_type": "code",
      "source": [
        "# Adding an element\n",
        "my_set.add(6)\n",
        "print(\"set after adding an element:\", my_set)"
      ],
      "metadata": {
        "colab": {
          "base_uri": "https://localhost:8080/"
        },
        "id": "TeS-yEQdS4Oi",
        "outputId": "785664c4-16dd-457c-8dda-89dd7e93926e"
      },
      "execution_count": 13,
      "outputs": [
        {
          "output_type": "stream",
          "name": "stdout",
          "text": [
            "set after adding an element: {1, 2, 3, 4, 5, 6}\n"
          ]
        }
      ]
    },
    {
      "cell_type": "code",
      "source": [
        "# Removing an element\n",
        "my_set.remove(3)\n",
        "print(\"set after removing an element:\", my_set)"
      ],
      "metadata": {
        "colab": {
          "base_uri": "https://localhost:8080/"
        },
        "id": "J5gHEx18S4Q6",
        "outputId": "579a93d9-bebd-46dd-8b5a-1482d78e5f71"
      },
      "execution_count": 14,
      "outputs": [
        {
          "output_type": "stream",
          "name": "stdout",
          "text": [
            "set after removing an element: {1, 2, 4, 5, 6}\n"
          ]
        }
      ]
    },
    {
      "cell_type": "code",
      "source": [
        "# Modifying an element\n",
        "# Sets are immutable, so modifying an element is not possible\n",
        "# However we can add and re modify these elements\n",
        "my_set.discard(5)\n",
        "print(\"set after modifying an element:\", my_set)\n",
        "my_set.add(5)\n",
        "print(\"set after re modifying an element:\", my_set)"
      ],
      "metadata": {
        "colab": {
          "base_uri": "https://localhost:8080/"
        },
        "id": "PQJb0raIS4Th",
        "outputId": "cc78a93e-e813-42a1-bb6d-9e8d15c94917"
      },
      "execution_count": 15,
      "outputs": [
        {
          "output_type": "stream",
          "name": "stdout",
          "text": [
            "set after modifying an element: {1, 2, 4, 6}\n",
            "set after re modifying an element: {1, 2, 4, 5, 6}\n"
          ]
        }
      ]
    },
    {
      "cell_type": "markdown",
      "source": [],
      "metadata": {
        "id": "sCGsF8lqOkjM"
      }
    }
  ]
}