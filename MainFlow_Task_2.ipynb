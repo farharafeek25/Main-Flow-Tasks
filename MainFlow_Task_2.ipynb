{
  "nbformat": 4,
  "nbformat_minor": 0,
  "metadata": {
    "colab": {
      "provenance": []
    },
    "kernelspec": {
      "name": "python3",
      "display_name": "Python 3"
    },
    "language_info": {
      "name": "python"
    }
  },
  "cells": [
    {
      "cell_type": "markdown",
      "source": [],
      "metadata": {
        "id": "vxP19QaDZMPZ"
      }
    },
    {
      "cell_type": "markdown",
      "source": [
        "1. Loading the CSV File into a DataFrame"
      ],
      "metadata": {
        "id": "TQdE_JxteGUb"
      }
    },
    {
      "cell_type": "code",
      "execution_count": 1,
      "metadata": {
        "colab": {
          "base_uri": "https://localhost:8080/"
        },
        "id": "wah6fhtCTrC_",
        "outputId": "55cea477-f4b4-43b6-c868-58ca853c47c6"
      },
      "outputs": [
        {
          "output_type": "stream",
          "name": "stdout",
          "text": [
            "Drive already mounted at /content/drive; to attempt to forcibly remount, call drive.mount(\"/content/drive\", force_remount=True).\n"
          ]
        }
      ],
      "source": [
        "import pandas as pd\n",
        "from google.colab import drive\n",
        "drive.mount('/content/drive')"
      ]
    },
    {
      "cell_type": "code",
      "source": [
        "file_path = '/content/drive/MyDrive/01.Data Cleaning and Preprocessing - 01.Data Cleaning and Preprocessing.csv'\n",
        "df = pd.read_csv(file_path)\n",
        "\n",
        "# Display the first few rows of the DataFrame\n",
        "print(df.head())"
      ],
      "metadata": {
        "colab": {
          "base_uri": "https://localhost:8080/"
        },
        "id": "VsTW8-YIT8gu",
        "outputId": "1b84de65-c32d-4378-8463-57897a269f38"
      },
      "execution_count": 2,
      "outputs": [
        {
          "output_type": "stream",
          "name": "stdout",
          "text": [
            "  Observation  Y-Kappa  ChipRate  BF-CMratio  BlowFlow  ChipLevel4  \\\n",
            "0    31-00:00    23.10    16.520     121.717  1177.607     169.805   \n",
            "1    31-01:00    27.60    16.810      79.022  1328.360     341.327   \n",
            "2    31-02:00    23.19    16.709      79.562  1329.407     239.161   \n",
            "3    31-03:00    23.60    16.478      81.011  1334.877     213.527   \n",
            "4    31-04:00    22.90    15.618      93.244  1334.168     243.131   \n",
            "\n",
            "   T-upperExt-2  T-lowerExt-2  UCZAA  WhiteFlow-4  ...  SteamFlow-4  \\\n",
            "0       358.282       329.545  1.443      599.253  ...       67.122   \n",
            "1       351.050       329.067  1.549      537.201  ...       60.012   \n",
            "2       350.022       329.260  1.600      549.611  ...       61.304   \n",
            "3       350.938       331.142  1.604      623.362  ...       68.496   \n",
            "4       351.640       332.709    NaN      638.672  ...       70.022   \n",
            "\n",
            "   Lower-HeatT-3  Upper-HeatT-3  ChipMass-4  WeakLiquorF  BlackFlow-2  \\\n",
            "0        329.432        303.099     175.964     1127.197     1319.039   \n",
            "1        330.823        304.879     163.202      665.975     1297.317   \n",
            "2        329.140        303.383     164.013      677.534     1327.072   \n",
            "3        328.875        302.254     181.487      767.853     1324.461   \n",
            "4        328.352        300.954     183.929      888.448     1343.424   \n",
            "\n",
            "   WeakWashF  SteamHeatF-3  T-Top-Chips-4  SulphidityL-4  \n",
            "0    257.325        54.612        252.077            NaN  \n",
            "1    241.182        46.603        251.406          29.11  \n",
            "2    237.272        51.795        251.335            NaN  \n",
            "3    239.478        54.846        250.312          29.02  \n",
            "4    215.372        54.186        249.916          29.01  \n",
            "\n",
            "[5 rows x 23 columns]\n"
          ]
        }
      ]
    },
    {
      "cell_type": "markdown",
      "source": [
        "2. Filtering Data Based on Conditions"
      ],
      "metadata": {
        "id": "0LEyWNCDeKSn"
      }
    },
    {
      "cell_type": "code",
      "source": [
        "# Filter the data where 'Y-Kappa' is greater than 25\n",
        "filtered_df = df[df['Y-Kappa'] > 25]\n",
        "\n",
        "# Display the first few rows of the filtered DataFrame\n",
        "print(filtered_df.head())"
      ],
      "metadata": {
        "colab": {
          "base_uri": "https://localhost:8080/"
        },
        "id": "tt5iTHr4XSwQ",
        "outputId": "80c0892f-0b79-48f1-82e8-68015937b20f"
      },
      "execution_count": 7,
      "outputs": [
        {
          "output_type": "stream",
          "name": "stdout",
          "text": [
            "   Observation  Y-Kappa  ChipRate  BF-CMratio  BlowFlow  ChipLevel4  \\\n",
            "1     31-01:00    27.60    16.810      79.022  1328.360     341.327   \n",
            "12    31-11:00    26.62    15.467      84.447  1334.255     386.971   \n",
            "13    31-12:00    27.20    16.083      82.839  1332.331     366.855   \n",
            "15    31-14:00    25.40    16.425      72.924  1197.775     118.821   \n",
            "40     1-15:00    27.10    13.558      83.117  1175.417     289.256   \n",
            "\n",
            "    T-upperExt-2  T-lowerExt-2  UCZAA  WhiteFlow-4  ...  SteamFlow-4  \\\n",
            "1        351.050       329.067  1.549      537.201  ...       60.012   \n",
            "12       349.392       321.021  1.428      531.250  ...       59.407   \n",
            "13       350.094       327.439  1.486      527.893  ...       60.271   \n",
            "15       350.765       329.799  1.635      585.011  ...       65.474   \n",
            "40       339.168       318.386  1.360      480.184  ...       48.568   \n",
            "\n",
            "    Lower-HeatT-3  Upper-HeatT-3  ChipMass-4  WeakLiquorF  BlackFlow-2  \\\n",
            "1         330.823        304.879     163.202      665.975     1297.317   \n",
            "12        330.284        303.248     156.797      799.947     1299.782   \n",
            "13        330.023        302.883     160.562      771.158     1299.974   \n",
            "15        329.773        302.884     175.646      756.154     1300.037   \n",
            "40        318.228        294.850     131.537      744.659      996.046   \n",
            "\n",
            "    WeakWashF  SteamHeatF-3  T-Top-Chips-4  SulphidityL-4  \n",
            "1     241.182        46.603        251.406          29.11  \n",
            "12    118.901        46.597        251.721            NaN  \n",
            "13    153.647        47.175        251.767          30.18  \n",
            "15    401.418        54.628        251.009          30.41  \n",
            "40    118.899        41.985        253.450            NaN  \n",
            "\n",
            "[5 rows x 23 columns]\n"
          ]
        }
      ]
    },
    {
      "cell_type": "markdown",
      "source": [
        "3. Handling Missing Values"
      ],
      "metadata": {
        "id": "QTqtat56eO3W"
      }
    },
    {
      "cell_type": "code",
      "source": [
        "# Droping rows with missing values\n",
        "df_cleaned = df.dropna()\n",
        "\n",
        "# Displayed the cleaned DataFrame\n",
        "print(df_cleaned.head())"
      ],
      "metadata": {
        "colab": {
          "base_uri": "https://localhost:8080/"
        },
        "id": "RRTLaPcZT8Wf",
        "outputId": "c5420452-c659-4fbd-efc1-acc3a1ce74ed"
      },
      "execution_count": 8,
      "outputs": [
        {
          "output_type": "stream",
          "name": "stdout",
          "text": [
            "  Observation  Y-Kappa  ChipRate  BF-CMratio  BlowFlow  ChipLevel4  \\\n",
            "1    31-01:00    27.60    16.810      79.022  1328.360     341.327   \n",
            "3    31-03:00    23.60    16.478      81.011  1334.877     213.527   \n",
            "5     1-08:00    14.23    15.350      85.518  1171.604     198.538   \n",
            "7    31-06:00    22.65    14.100      91.887  1307.852     288.989   \n",
            "9    31-08:00    24.70    13.850      96.208  1334.892     362.511   \n",
            "\n",
            "   T-upperExt-2  T-lowerExt-2  UCZAA  WhiteFlow-4  ...  SteamFlow-4  \\\n",
            "1       351.050       329.067  1.549      537.201  ...       60.012   \n",
            "3       350.938       331.142  1.604      623.362  ...       68.496   \n",
            "5       344.014       325.195  1.436      628.245  ...       65.225   \n",
            "7       352.321       331.162  1.468      625.549  ...       71.298   \n",
            "9       352.372       327.358  1.515      553.172  ...       64.249   \n",
            "\n",
            "   Lower-HeatT-3  Upper-HeatT-3  ChipMass-4  WeakLiquorF  BlackFlow-2  \\\n",
            "1        330.823        304.879     163.202      665.975     1297.317   \n",
            "3        328.875        302.254     181.487      767.853     1324.461   \n",
            "5        322.103        298.517     165.814      826.243      907.641   \n",
            "7        329.662        301.539     179.886      837.178     1315.111   \n",
            "9        332.264        305.419     166.120      909.810     1318.725   \n",
            "\n",
            "   WeakWashF  SteamHeatF-3  T-Top-Chips-4  SulphidityL-4  \n",
            "1    241.182        46.603        251.406          29.11  \n",
            "3    239.478        54.846        250.312          29.02  \n",
            "5    595.875        52.807        249.580          30.34  \n",
            "7    234.047        53.805        249.971          29.22  \n",
            "9    180.375        48.842        251.121          29.21  \n",
            "\n",
            "[5 rows x 23 columns]\n"
          ]
        }
      ]
    },
    {
      "cell_type": "code",
      "source": [
        "# Fill missing values with a specific value\n",
        "df_filled = df.fillna(0)\n",
        "\n",
        "# Fill missing values in a specific column with the mean of that column\n",
        "df['BF-CMratio'] = df['BF-CMratio'].fillna(df['BF-CMratio'].mean())\n",
        "\n",
        "# Displayed the filled DataFrame\n",
        "print(df_filled.head())"
      ],
      "metadata": {
        "colab": {
          "base_uri": "https://localhost:8080/"
        },
        "id": "Soo0RltJYlVC",
        "outputId": "11eaf080-ce1c-4301-e5af-ddad38bf1021"
      },
      "execution_count": 11,
      "outputs": [
        {
          "output_type": "stream",
          "name": "stdout",
          "text": [
            "  Observation  Y-Kappa  ChipRate  BF-CMratio  BlowFlow  ChipLevel4  \\\n",
            "0    31-00:00    23.10    16.520     121.717  1177.607     169.805   \n",
            "1    31-01:00    27.60    16.810      79.022  1328.360     341.327   \n",
            "2    31-02:00    23.19    16.709      79.562  1329.407     239.161   \n",
            "3    31-03:00    23.60    16.478      81.011  1334.877     213.527   \n",
            "4    31-04:00    22.90    15.618      93.244  1334.168     243.131   \n",
            "\n",
            "   T-upperExt-2  T-lowerExt-2  UCZAA  WhiteFlow-4  ...  SteamFlow-4  \\\n",
            "0       358.282       329.545  1.443      599.253  ...       67.122   \n",
            "1       351.050       329.067  1.549      537.201  ...       60.012   \n",
            "2       350.022       329.260  1.600      549.611  ...       61.304   \n",
            "3       350.938       331.142  1.604      623.362  ...       68.496   \n",
            "4       351.640       332.709  0.000      638.672  ...       70.022   \n",
            "\n",
            "   Lower-HeatT-3  Upper-HeatT-3  ChipMass-4  WeakLiquorF  BlackFlow-2  \\\n",
            "0        329.432        303.099     175.964     1127.197     1319.039   \n",
            "1        330.823        304.879     163.202      665.975     1297.317   \n",
            "2        329.140        303.383     164.013      677.534     1327.072   \n",
            "3        328.875        302.254     181.487      767.853     1324.461   \n",
            "4        328.352        300.954     183.929      888.448     1343.424   \n",
            "\n",
            "   WeakWashF  SteamHeatF-3  T-Top-Chips-4  SulphidityL-4  \n",
            "0    257.325        54.612        252.077           0.00  \n",
            "1    241.182        46.603        251.406          29.11  \n",
            "2    237.272        51.795        251.335           0.00  \n",
            "3    239.478        54.846        250.312          29.02  \n",
            "4    215.372        54.186        249.916          29.01  \n",
            "\n",
            "[5 rows x 23 columns]\n"
          ]
        }
      ]
    },
    {
      "cell_type": "markdown",
      "source": [],
      "metadata": {
        "id": "5fg4jByHdwXh"
      }
    },
    {
      "cell_type": "markdown",
      "source": [
        "4. Calculating Summary Statistics"
      ],
      "metadata": {
        "id": "pP4pSsoFeYc3"
      }
    },
    {
      "cell_type": "code",
      "source": [
        "# Calculate summary statistics\n",
        "summary_stats = df.describe()\n",
        "\n",
        "# Display summary statistics\n",
        "print(summary_stats)\n",
        "\n",
        "# Calculate the mean\n",
        "mean_value = df['Y-Kappa'].mean()\n",
        "\n",
        "# Calculate the median\n",
        "median_value = df['Y-Kappa'].median()\n",
        "\n",
        "# Calculate the standard deviation\n",
        "std_dev = df['Y-Kappa'].std()\n",
        "\n",
        "# Display calculated statistics\n",
        "print(f\"Mean: {mean_value}, Median: {median_value}, Std Dev: {std_dev}\")"
      ],
      "metadata": {
        "colab": {
          "base_uri": "https://localhost:8080/"
        },
        "id": "nGF9MB13TsAp",
        "outputId": "c1a5a64e-e7ad-4595-a658-37a12c229c31"
      },
      "execution_count": 10,
      "outputs": [
        {
          "output_type": "stream",
          "name": "stdout",
          "text": [
            "          Y-Kappa    ChipRate  BF-CMratio     BlowFlow  ChipLevel4  \\\n",
            "count  324.000000  319.000000  307.000000   308.000000  323.000000   \n",
            "mean    20.635370   14.347937   87.464456  1237.837614  258.164483   \n",
            "std      3.070036    1.499095    7.995012   100.593735   87.987452   \n",
            "min     12.170000    9.983000   68.645000     0.000000    0.000000   \n",
            "25%     18.382500   13.358000   81.823000  1193.215250  213.527000   \n",
            "50%     20.845000   14.308000   86.739000  1273.138500  271.792000   \n",
            "75%     23.032500   15.517000   92.372000  1289.196000  321.680000   \n",
            "max     27.600000   16.958000  121.717000  1351.240000  419.014000   \n",
            "\n",
            "       T-upperExt-2  T-lowerExt-2       UCZAA  WhiteFlow-4  AAWhiteSt-4  ...  \\\n",
            "count    322.000000    322.000000  299.000000   323.000000   173.000000  ...   \n",
            "mean     356.904295    324.020180    1.492010   591.732260     6.140410  ...   \n",
            "std        9.209290      7.621402    0.105923    67.016351     0.081609  ...   \n",
            "min      339.168000    284.633000    1.182000   405.111000     5.890000  ...   \n",
            "25%      350.241250    321.420000    1.431500   540.989500     6.089000  ...   \n",
            "50%      356.843000    325.669000    1.498000   592.895000     6.135000  ...   \n",
            "75%      362.242250    329.175000    1.560500   639.480500     6.199000  ...   \n",
            "max      399.135000    337.012000    1.747000   731.394000     6.340000  ...   \n",
            "\n",
            "       SteamFlow-4  Lower-HeatT-3  Upper-HeatT-3  ChipMass-4  WeakLiquorF  \\\n",
            "count   323.000000     322.000000     322.000000  323.000000   323.000000   \n",
            "mean     66.668285     325.567820     300.525699  162.222322   873.828941   \n",
            "std       5.708587       4.609862       4.568484   14.160688   122.073521   \n",
            "min      48.568000     318.051000     293.312000  113.922000   486.938000   \n",
            "25%      62.518000     321.385500     296.513250  153.032500   792.019500   \n",
            "50%      67.429000     324.741000     299.126000  163.690000   865.254000   \n",
            "75%      71.522000     329.845250     304.244750  172.555000   965.286500   \n",
            "max      76.147000     333.854000     311.146000  189.268000  1226.277000   \n",
            "\n",
            "       BlackFlow-2   WeakWashF  SteamHeatF-3  T-Top-Chips-4  SulphidityL-4  \n",
            "count   322.000000  323.000000    322.000000     323.000000     173.000000  \n",
            "mean   1175.917016  263.543068     49.696907     251.240087      30.411671  \n",
            "std     149.334010  163.666942      4.551909       1.283432       0.701317  \n",
            "min     838.948000    0.000000     35.510000     248.359000      29.010000  \n",
            "25%    1044.817500  134.649000     46.389750     250.312000      29.970000  \n",
            "50%    1150.221500  269.193000     50.277000     251.380000      30.370000  \n",
            "75%    1319.021250  405.563000     53.294250     252.323500      30.820000  \n",
            "max    1395.767000  715.715000     63.332000     254.122000      32.840000  \n",
            "\n",
            "[8 rows x 22 columns]\n",
            "Mean: 20.63537037037037, Median: 20.845, Std Dev: 3.0700364836607257\n"
          ]
        }
      ]
    },
    {
      "cell_type": "code",
      "source": [],
      "metadata": {
        "id": "HtTvV7tFTsFC"
      },
      "execution_count": null,
      "outputs": []
    },
    {
      "cell_type": "code",
      "source": [],
      "metadata": {
        "id": "1bOXSOsnTsHr"
      },
      "execution_count": null,
      "outputs": []
    }
  ]
}